{
 "cells": [
  {
   "cell_type": "code",
   "execution_count": 3,
   "id": "2569b68a-c490-4edf-ab48-fd04780a5667",
   "metadata": {},
   "outputs": [
    {
     "data": {
      "text/plain": [
       "['anaconda', 'KGF', 'PK', 'Tangled', 'Forrest Gump']"
      ]
     },
     "execution_count": 3,
     "metadata": {},
     "output_type": "execute_result"
    }
   ],
   "source": [
    "#4. Create a list of your favorite movies and print it. Then, append a new movie to the list \n",
    "#and print the updated list.\n",
    "\n",
    "\n",
    "list_a=['anaconda','KGF','PK','Tangled','Forrest Gump']\n",
    "list_a"
   ]
  },
  {
   "cell_type": "code",
   "execution_count": 4,
   "id": "8c699154-2168-4f30-8c71-42d7e9481700",
   "metadata": {},
   "outputs": [
    {
     "data": {
      "text/plain": [
       "[1, 2, 3, 4, 5, 6, 7, 8, 9, 10]"
      ]
     },
     "execution_count": 4,
     "metadata": {},
     "output_type": "execute_result"
    }
   ],
   "source": [
    "#5.Create a list of integers from 1 to 10 and print it. Calculate the sum of all the numbers in\n",
    "#the list and print the result.\n",
    "\n",
    "list_b=[1,2,3,4,5,6,7,8,9,10]\n",
    "list_b\n"
   ]
  },
  {
   "cell_type": "code",
   "execution_count": 7,
   "id": "36cb1d1e-6e36-49e9-8ddb-3fc86b7cd310",
   "metadata": {},
   "outputs": [
    {
     "data": {
      "text/plain": [
       "55"
      ]
     },
     "execution_count": 7,
     "metadata": {},
     "output_type": "execute_result"
    }
   ],
   "source": [
    " list_b = sum(list_b)\n",
    " list_b"
   ]
  },
  {
   "cell_type": "code",
   "execution_count": 17,
   "id": "de1ccbeb-8582-4e75-8d8c-4fbb6fcbdccd",
   "metadata": {},
   "outputs": [
    {
     "data": {
      "text/plain": [
       "[1, 2, 3, 'apple', 'pikachu', 3.1, 3.2]"
      ]
     },
     "execution_count": 17,
     "metadata": {},
     "output_type": "execute_result"
    }
   ],
   "source": [
    "#6. Create a list of mixed data types including strings, integers, and floats and print it. Remove\n",
    "#the first element from the list and print the modified list.\n",
    "\n",
    "mixed_list=[1,2,3,'apple','pikachu',3.1,3.2]\n",
    "mixed_list"
   ]
  },
  {
   "cell_type": "code",
   "execution_count": 18,
   "id": "1fa381ac-8c52-4169-8ad4-4be18d3258f6",
   "metadata": {},
   "outputs": [
    {
     "data": {
      "text/plain": [
       "[2, 3, 'apple', 'pikachu', 3.1, 3.2]"
      ]
     },
     "execution_count": 18,
     "metadata": {},
     "output_type": "execute_result"
    }
   ],
   "source": [
    "del mixed_list[0]\n",
    "mixed_list"
   ]
  },
  {
   "cell_type": "code",
   "execution_count": 19,
   "id": "93b2731d-ca54-40b0-b8ec-e5713bd7d4e8",
   "metadata": {},
   "outputs": [
    {
     "data": {
      "text/plain": [
       "('Sunday', 'Monday', 'Tuesday', 'Wednesday', 'Thursday', 'Friday', 'Saturday')"
      ]
     },
     "execution_count": 19,
     "metadata": {},
     "output_type": "execute_result"
    }
   ],
   "source": [
    "#Create a tuple containing the names of the days of the week and print it. Access and print\n",
    "#the name of the third day.\n",
    "\n",
    "days_of_the_week = (\"Sunday\",\"Monday\",\"Tuesday\",\"Wednesday\",\"Thursday\",\"Friday\",\"Saturday\")\n",
    "days_of_the_week\n",
    "\n"
   ]
  },
  {
   "cell_type": "code",
   "execution_count": 24,
   "id": "80bb5796-32c5-49f3-a133-aa7a86ca07ff",
   "metadata": {},
   "outputs": [
    {
     "name": "stdout",
     "output_type": "stream",
     "text": [
      "Third day of the week: Tuesday\n"
     ]
    }
   ],
   "source": [
    "third_day = days_of_the_week[2]\n",
    "print(\"Third day of the week:\",third_day)"
   ]
  },
  {
   "cell_type": "code",
   "execution_count": 31,
   "id": "0cd64227-d380-4f63-b8a8-630827c1558c",
   "metadata": {},
   "outputs": [
    {
     "data": {
      "text/plain": [
       "('pink', 'green', 'blue', 'voilet', 'peach')"
      ]
     },
     "execution_count": 31,
     "metadata": {},
     "output_type": "execute_result"
    }
   ],
   "source": [
    "#8. Create a tuple of your favorite colors and print it. Check if a certain color is present in the\n",
    "#tuple and print the result.\n",
    "\n",
    "favorite_colors = (\"pink\",\"green\",\"blue\",\"voilet\",\"peach\")\n",
    "favorite_colors"
   ]
  },
  {
   "cell_type": "code",
   "execution_count": 34,
   "id": "cd71853b-fe9f-413d-860c-d5f8f2cfd81f",
   "metadata": {},
   "outputs": [
    {
     "data": {
      "text/plain": [
       "True"
      ]
     },
     "execution_count": 34,
     "metadata": {},
     "output_type": "execute_result"
    }
   ],
   "source": [
    "color_to_check=(\"green\")\n",
    "present=color_to_check in favorite_colors\n",
    "present\n",
    "\n"
   ]
  },
  {
   "cell_type": "code",
   "execution_count": 54,
   "id": "1f8a4109-4c3c-4935-90ae-a4129bc8a785",
   "metadata": {},
   "outputs": [
    {
     "data": {
      "text/plain": [
       "{'title': 'ikigai', 'author': 'japenese', 'year': 1990}"
      ]
     },
     "execution_count": 54,
     "metadata": {},
     "output_type": "execute_result"
    }
   ],
   "source": [
    "#9. Create a dictionary representing the information of a book with keys \"title\", \"author\", and\n",
    "#\"year\" and print it. Update the year of the book and print the updated dictionary.\n",
    "book_info={\"title\":\"ikigai\",\n",
    "\"author\":\"japenese\",\n",
    "\"year\":1990}\n",
    "book_info\n"
   ]
  },
  {
   "cell_type": "code",
   "execution_count": 55,
   "id": "739131c7-5249-499d-b93d-f5c5b14dc54a",
   "metadata": {},
   "outputs": [
    {
     "data": {
      "text/plain": [
       "{'title': 'ikigai', 'author': 'japenese', 'year': 2000}"
      ]
     },
     "execution_count": 55,
     "metadata": {},
     "output_type": "execute_result"
    }
   ],
   "source": [
    "book_info[\"year\"] = 2000\n",
    "book_info"
   ]
  },
  {
   "cell_type": "code",
   "execution_count": 56,
   "id": "53dd5a98-8621-4563-8226-b64568f7166a",
   "metadata": {},
   "outputs": [
    {
     "data": {
      "text/plain": [
       "{'apple': 'red', 'avocado': 'green', 'drag': 'pink', 'grapes': 'green'}"
      ]
     },
     "execution_count": 56,
     "metadata": {},
     "output_type": "execute_result"
    }
   ],
   "source": [
    "#10. Create a dictionary containing the names of fruits as keys and their corresponding colors\n",
    "#as values and print it. Add a new fruit-color pair to the dictionary and print the updated\n",
    "#dictionary.\n",
    "name_of_fruits={\"apple\":\"red\",\"avocado\":\"green\",\"drag\":\"pink\",\"grapes\":\"green\"}\n",
    "name_of_fruits\n"
   ]
  },
  {
   "cell_type": "code",
   "execution_count": 57,
   "id": "c7ca3d88-d01d-4322-a9c4-d64467d1ed49",
   "metadata": {},
   "outputs": [
    {
     "data": {
      "text/plain": [
       "{'apple': 'red',\n",
       " 'avocado': 'green',\n",
       " 'drag': 'pink',\n",
       " 'grapes': 'green',\n",
       " 'blue berry': 'blue'}"
      ]
     },
     "execution_count": 57,
     "metadata": {},
     "output_type": "execute_result"
    }
   ],
   "source": [
    "name_of_fruits[\"blue berry\"]=\"blue\"\n",
    "name_of_fruits"
   ]
  },
  {
   "cell_type": "code",
   "execution_count": 68,
   "id": "2840e2c2-e090-455b-9b53-bbceb0a9f40e",
   "metadata": {},
   "outputs": [
    {
     "data": {
      "text/plain": [
       "{'New York': 8336817,\n",
       " 'Los Angeles': 3979576,\n",
       " 'Chicago': 2693976,\n",
       " 'Houston': 2320268,\n",
       " 'Phoenix': 1680992}"
      ]
     },
     "execution_count": 68,
     "metadata": {},
     "output_type": "execute_result"
    }
   ],
   "source": [
    "#11. Create a dictionary representing the population of different cities with keys as city names\n",
    "#and values as population numbers and print it. Remove a city from the dictionary and print\n",
    "#the modified dictionary.\n",
    "city_populations = {\n",
    "    \"New York\": 8336817,\n",
    "    \"Los Angeles\": 3979576,\n",
    "    \"Chicago\": 2693976,\n",
    "    \"Houston\": 2320268,\n",
    "    \"Phoenix\": 1680992\n",
    "}\n",
    "city_populations"
   ]
  },
  {
   "cell_type": "code",
   "execution_count": 72,
   "id": "9eb45c02-3a3e-402d-8c35-00bb71ba8737",
   "metadata": {},
   "outputs": [
    {
     "name": "stdout",
     "output_type": "stream",
     "text": [
      "{'New York': 8336817, 'Los Angeles': 3979576, 'Chicago': 2693976, 'Houston': 2320268}\n"
     ]
    }
   ],
   "source": [
    "city_to_remove = \"Phoenix\"\n",
    "if city_to_remove in city_populations:\n",
    "    del city_populations[city_to_remove]\n",
    "    print(f\"\\n'{city_to_remove}' has been removed from the dictionary.\")\n",
    "\n",
    "\n",
    "print(city_populations)"
   ]
  },
  {
   "cell_type": "code",
   "execution_count": null,
   "id": "20dbdc14-3d4f-4de0-a5c5-89bd55e55208",
   "metadata": {},
   "outputs": [],
   "source": []
  },
  {
   "cell_type": "code",
   "execution_count": null,
   "id": "89804aef-45af-4e4c-8f75-ac946a9354fd",
   "metadata": {},
   "outputs": [],
   "source": []
  },
  {
   "cell_type": "code",
   "execution_count": null,
   "id": "a35355c8-211f-499b-a240-729915e84f48",
   "metadata": {},
   "outputs": [],
   "source": []
  }
 ],
 "metadata": {
  "kernelspec": {
   "display_name": "Python 3 (ipykernel)",
   "language": "python",
   "name": "python3"
  },
  "language_info": {
   "codemirror_mode": {
    "name": "ipython",
    "version": 3
   },
   "file_extension": ".py",
   "mimetype": "text/x-python",
   "name": "python",
   "nbconvert_exporter": "python",
   "pygments_lexer": "ipython3",
   "version": "3.11.7"
  }
 },
 "nbformat": 4,
 "nbformat_minor": 5
}
