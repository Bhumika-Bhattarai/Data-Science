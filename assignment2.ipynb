{
 "cells": [
  {
   "cell_type": "code",
   "execution_count": 1,
   "id": "3855487b-38bc-4292-bb90-02d213defa43",
   "metadata": {},
   "outputs": [
    {
     "name": "stdout",
     "output_type": "stream",
     "text": [
      "[ 1  2  3  4  5  6  7  8  9 10]\n"
     ]
    }
   ],
   "source": [
    "#Array Creation:\n",
    "#Create a 1-dimensional array of integers from 1 to 10.\n",
    "import numpy as np\n",
    "array = np.array([1, 2, 3, 4, 5, 6, 7, 8, 9, 10])\n",
    "\n",
    "print(array)"
   ]
  },
  {
   "cell_type": "code",
   "execution_count": 2,
   "id": "d4de09dd-a16e-46f7-b9bf-4489bdb695fb",
   "metadata": {},
   "outputs": [
    {
     "data": {
      "text/plain": [
       "array([[0.13131795, 0.65673668, 0.18417414, 0.04176666],\n",
       "       [0.71767251, 0.2561906 , 0.26747496, 0.07012209],\n",
       "       [0.24153592, 0.44985466, 0.59757978, 0.34335065]])"
      ]
     },
     "execution_count": 2,
     "metadata": {},
     "output_type": "execute_result"
    }
   ],
   "source": [
    "# Create a 2-dimensional array with random float values of shape (3, 4).\n",
    "Q2 = np.random.rand(3,4)\n",
    "Q2"
   ]
  },
  {
   "cell_type": "code",
   "execution_count": 3,
   "id": "e0e1088d-312a-479c-9e95-ab88044db2af",
   "metadata": {},
   "outputs": [
    {
     "data": {
      "text/plain": [
       "array([[[0., 0., 0., 0.],\n",
       "        [0., 0., 0., 0.],\n",
       "        [0., 0., 0., 0.]],\n",
       "\n",
       "       [[0., 0., 0., 0.],\n",
       "        [0., 0., 0., 0.],\n",
       "        [0., 0., 0., 0.]]])"
      ]
     },
     "execution_count": 3,
     "metadata": {},
     "output_type": "execute_result"
    }
   ],
   "source": [
    "# Create a 3-dimensional array of zeros with shape (2, 3, 4).\n",
    "Q3 = np.zeros((2,3,4))\n",
    "Q3"
   ]
  },
  {
   "cell_type": "code",
   "execution_count": 7,
   "id": "09c35b85-4787-4792-be88-4a59080463c4",
   "metadata": {},
   "outputs": [
    {
     "data": {
      "text/plain": [
       "array([0.16666667, 0.28571429, 0.375     , 0.44444444, 0.5       ])"
      ]
     },
     "execution_count": 7,
     "metadata": {},
     "output_type": "execute_result"
    }
   ],
   "source": [
    "#Array operations:\n",
    "#Given two 1-dimensional arrays, perform element-wise addition,subtraction, multiplication, and division.\n",
    "Arr1 = np.array([1, 2, 3, 4, 5])\n",
    "Arr2 = np.array([6, 7, 8, 9, 10])\n",
    "Add = Arr1+Arr2\n",
    "Add\n",
    "Sub = Arr1-Arr2\n",
    "Sub\n",
    "Mul = Arr1*Arr2\n",
    "Mul\n",
    "div = Arr1/Arr2\n",
    "div"
   ]
  },
  {
   "cell_type": "code",
   "execution_count": 5,
   "id": "6faa58dc-6d6d-4eba-84cc-89914a99d1b9",
   "metadata": {},
   "outputs": [
    {
     "data": {
      "text/plain": [
       "2.8722813232690143"
      ]
     },
     "execution_count": 5,
     "metadata": {},
     "output_type": "execute_result"
    }
   ],
   "source": [
    "# Calculate the mean, median, and standard deviation of a given 1- dimensional array.\n",
    "Arr = np.array([1, 2, 3, 4, 5, 6, 7, 8, 9, 10])\n",
    "mean = np.mean(Arr)\n",
    "mean\n",
    "median = np.median(Arr)\n",
    "median\n",
    "std = np.std(Arr)\n",
    "std\n",
    "\n"
   ]
  },
  {
   "cell_type": "code",
   "execution_count": 6,
   "id": "658fa4fa-8fba-4b56-a8af-1eb8fff76688",
   "metadata": {},
   "outputs": [
    {
     "data": {
      "text/plain": [
       "array([[ 0,  1,  2,  3],\n",
       "       [ 4,  5,  6,  7],\n",
       "       [ 8,  9, 10, 11]])"
      ]
     },
     "execution_count": 6,
     "metadata": {},
     "output_type": "execute_result"
    }
   ],
   "source": [
    "# Reshape a 1-dimensional array into a 2-dimensional array of shape (3, 4).\n",
    "Arr = np.arange(12)\n",
    "twod_Arr = Arr.reshape((3,4))\n",
    "twod_Arr"
   ]
  },
  {
   "cell_type": "code",
   "execution_count": 8,
   "id": "c187fd83-69ac-43e1-8861-e40434335cfe",
   "metadata": {},
   "outputs": [
    {
     "data": {
      "text/plain": [
       "array([10,  9,  8,  7,  6,  5,  4,  3,  2,  1])"
      ]
     },
     "execution_count": 8,
     "metadata": {},
     "output_type": "execute_result"
    }
   ],
   "source": [
    "# Reverse the order of elements in a 1-dimensional array.\n",
    "Arr = np.array([1, 2, 3, 4, 5, 6, 7, 8, 9, 10])\n",
    "rev = Arr[::-1]\n",
    "rev\n"
   ]
  },
  {
   "cell_type": "code",
   "execution_count": 9,
   "id": "ce15685b-a38a-468f-b54c-44e86a384f77",
   "metadata": {},
   "outputs": [
    {
     "data": {
      "text/plain": [
       "array([ 6,  7,  8,  9, 10, 11, 12])"
      ]
     },
     "execution_count": 9,
     "metadata": {},
     "output_type": "execute_result"
    }
   ],
   "source": [
    "# Select elements from a 2-dimensional array that satisfy a specific condition (e.g., values greater than a certain threshold).\n",
    "arr = np.array([[1, 2, 3, 4],\n",
    "                [5, 6, 7, 8],\n",
    "                [9, 10, 11, 12]])\n",
    "greater = arr[arr > 5]\n",
    "greater"
   ]
  },
  {
   "cell_type": "code",
   "execution_count": 10,
   "id": "7857709f-486c-44a6-93e5-4c5f5a392e82",
   "metadata": {},
   "outputs": [
    {
     "data": {
      "text/plain": [
       "array([[ 6,  7,  8,  9],\n",
       "       [10, 11, 12, 13],\n",
       "       [14, 15, 16, 17]])"
      ]
     },
     "execution_count": 10,
     "metadata": {},
     "output_type": "execute_result"
    }
   ],
   "source": [
    "#Array Broadcasting:\n",
    "# Add a scalar value to each element of a 2-dimensional array.\n",
    "arr = np.array([[1, 2, 3, 4],\n",
    "                [5, 6, 7, 8],\n",
    "                [9, 10, 11, 12]])\n",
    "scalar = arr + 5\n",
    "scalar"
   ]
  },
  {
   "cell_type": "code",
   "execution_count": 11,
   "id": "37cf44c6-6eac-49f7-80e1-4b65a80f713b",
   "metadata": {},
   "outputs": [
    {
     "data": {
      "text/plain": [
       "array([[ 1,  4,  9, 16],\n",
       "       [ 5, 12, 21, 32],\n",
       "       [ 9, 20, 33, 48]])"
      ]
     },
     "execution_count": 11,
     "metadata": {},
     "output_type": "execute_result"
    }
   ],
   "source": [
    "# Multiply a 1-dimensional array with a 2-dimensional array, leveraging NumPy's broadcasting rules.\n",
    "array1 = np.array([1, 2, 3, 4])\n",
    "array2 = np.array([[1, 2, 3, 4],\n",
    "                    [5, 6, 7, 8],\n",
    "                    [9, 10, 11, 12]])\n",
    "mul = array1 * array2\n",
    "mul"
   ]
  },
  {
   "cell_type": "code",
   "execution_count": null,
   "id": "e8001f5f-d20b-49a9-be17-de095beeeaa9",
   "metadata": {},
   "outputs": [],
   "source": [
    "#Linear Algebra:\n"
   ]
  }
 ],
 "metadata": {
  "kernelspec": {
   "display_name": "Python 3 (ipykernel)",
   "language": "python",
   "name": "python3"
  },
  "language_info": {
   "codemirror_mode": {
    "name": "ipython",
    "version": 3
   },
   "file_extension": ".py",
   "mimetype": "text/x-python",
   "name": "python",
   "nbconvert_exporter": "python",
   "pygments_lexer": "ipython3",
   "version": "3.11.7"
  }
 },
 "nbformat": 4,
 "nbformat_minor": 5
}
